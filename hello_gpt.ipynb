{
  "nbformat": 4,
  "nbformat_minor": 0,
  "metadata": {
    "colab": {
      "provenance": [],
      "authorship_tag": "ABX9TyPOnEPi//0Tv//H4YP5aux8",
      "include_colab_link": true
    },
    "kernelspec": {
      "name": "python3",
      "display_name": "Python 3"
    },
    "language_info": {
      "name": "python"
    }
  },
  "cells": [
    {
      "cell_type": "markdown",
      "metadata": {
        "id": "view-in-github",
        "colab_type": "text"
      },
      "source": [
        "<a href=\"https://colab.research.google.com/github/kk0mtl/2024-NLP/blob/main/hello_gpt.ipynb\" target=\"_parent\"><img src=\"https://colab.research.google.com/assets/colab-badge.svg\" alt=\"Open In Colab\"/></a>"
      ]
    },
    {
      "cell_type": "code",
      "source": [
        "!pip install openai==0.28"
      ],
      "metadata": {
        "colab": {
          "base_uri": "https://localhost:8080/"
        },
        "id": "YcFLzU7xH3GM",
        "outputId": "2da90513-7a77-4480-98a4-f44ade1d66db"
      },
      "execution_count": 1,
      "outputs": [
        {
          "output_type": "stream",
          "name": "stdout",
          "text": [
            "Requirement already satisfied: openai==0.28 in /usr/local/lib/python3.10/dist-packages (0.28.0)\n",
            "Requirement already satisfied: requests>=2.20 in /usr/local/lib/python3.10/dist-packages (from openai==0.28) (2.32.3)\n",
            "Requirement already satisfied: tqdm in /usr/local/lib/python3.10/dist-packages (from openai==0.28) (4.66.6)\n",
            "Requirement already satisfied: aiohttp in /usr/local/lib/python3.10/dist-packages (from openai==0.28) (3.10.10)\n",
            "Requirement already satisfied: charset-normalizer<4,>=2 in /usr/local/lib/python3.10/dist-packages (from requests>=2.20->openai==0.28) (3.4.0)\n",
            "Requirement already satisfied: idna<4,>=2.5 in /usr/local/lib/python3.10/dist-packages (from requests>=2.20->openai==0.28) (3.10)\n",
            "Requirement already satisfied: urllib3<3,>=1.21.1 in /usr/local/lib/python3.10/dist-packages (from requests>=2.20->openai==0.28) (2.2.3)\n",
            "Requirement already satisfied: certifi>=2017.4.17 in /usr/local/lib/python3.10/dist-packages (from requests>=2.20->openai==0.28) (2024.8.30)\n",
            "Requirement already satisfied: aiohappyeyeballs>=2.3.0 in /usr/local/lib/python3.10/dist-packages (from aiohttp->openai==0.28) (2.4.3)\n",
            "Requirement already satisfied: aiosignal>=1.1.2 in /usr/local/lib/python3.10/dist-packages (from aiohttp->openai==0.28) (1.3.1)\n",
            "Requirement already satisfied: attrs>=17.3.0 in /usr/local/lib/python3.10/dist-packages (from aiohttp->openai==0.28) (24.2.0)\n",
            "Requirement already satisfied: frozenlist>=1.1.1 in /usr/local/lib/python3.10/dist-packages (from aiohttp->openai==0.28) (1.5.0)\n",
            "Requirement already satisfied: multidict<7.0,>=4.5 in /usr/local/lib/python3.10/dist-packages (from aiohttp->openai==0.28) (6.1.0)\n",
            "Requirement already satisfied: yarl<2.0,>=1.12.0 in /usr/local/lib/python3.10/dist-packages (from aiohttp->openai==0.28) (1.17.0)\n",
            "Requirement already satisfied: async-timeout<5.0,>=4.0 in /usr/local/lib/python3.10/dist-packages (from aiohttp->openai==0.28) (4.0.3)\n",
            "Requirement already satisfied: typing-extensions>=4.1.0 in /usr/local/lib/python3.10/dist-packages (from multidict<7.0,>=4.5->aiohttp->openai==0.28) (4.12.2)\n",
            "Requirement already satisfied: propcache>=0.2.0 in /usr/local/lib/python3.10/dist-packages (from yarl<2.0,>=1.12.0->aiohttp->openai==0.28) (0.2.0)\n"
          ]
        }
      ]
    },
    {
      "cell_type": "code",
      "execution_count": 2,
      "metadata": {
        "id": "UO9N6m1pC-cm"
      },
      "outputs": [],
      "source": [
        "import os\n",
        "import openai"
      ]
    },
    {
      "cell_type": "code",
      "source": [
        "# github 저장을 위해 key는 제거하겠습니다.\n",
        "OPENAI_API_KEY = ''\n",
        "openai.api_key = OPENAI_API_KEY"
      ],
      "metadata": {
        "id": "TyEZ_1ZHDGAW"
      },
      "execution_count": 3,
      "outputs": []
    },
    {
      "cell_type": "code",
      "source": [
        "model = 'gpt-3.5-turbo'\n",
        "query = '프랑스의 수도를 알려줘.'"
      ],
      "metadata": {
        "id": "XhumQWF3Iq28"
      },
      "execution_count": 17,
      "outputs": []
    },
    {
      "cell_type": "code",
      "source": [
        "messages = [{'role' : 'user', 'content' : query}]\n",
        "\n",
        "response = openai.ChatCompletion.create(\n",
        "    model = model,\n",
        "    messages = messages,\n",
        ")\n",
        "\n",
        "print(response.choices[0].message.content)"
      ],
      "metadata": {
        "colab": {
          "base_uri": "https://localhost:8080/"
        },
        "id": "J7IwP_fxIKkx",
        "outputId": "48f8e9b9-c37f-4fe4-9f9e-2b48c91223b9"
      },
      "execution_count": 18,
      "outputs": [
        {
          "output_type": "stream",
          "name": "stdout",
          "text": [
            "프랑스의 수도는 파리(Paris)입니다.\n"
          ]
        }
      ]
    },
    {
      "cell_type": "code",
      "source": [
        "# helpful assistant\n",
        "messages = [{'role' : 'system',\n",
        "             'content' : 'You are a helpful assistant.',\n",
        "             }, {\n",
        "                 'role' : 'user',\n",
        "                'content' : query\n",
        "             }]\n",
        "\n",
        "response = openai.ChatCompletion.create(\n",
        "    model = model,\n",
        "    messages = messages,\n",
        ")\n",
        "\n",
        "print(response.choices[0].message.content)"
      ],
      "metadata": {
        "colab": {
          "base_uri": "https://localhost:8080/"
        },
        "id": "5LOXCREbIRNK",
        "outputId": "a68f1c30-e9bc-4f2b-e714-630492f0ea0b"
      },
      "execution_count": 19,
      "outputs": [
        {
          "output_type": "stream",
          "name": "stdout",
          "text": [
            "프랑스의 수도는 파리(Paris)입니다.\n"
          ]
        }
      ]
    },
    {
      "cell_type": "code",
      "source": [
        "# humorous assistant\n",
        "messages = [{'role' : 'system',\n",
        "             'content' : 'You are a humorous assistant.',\n",
        "             }, {\n",
        "                 'role' : 'user',\n",
        "                'content' : query\n",
        "             }]\n",
        "\n",
        "response = openai.ChatCompletion.create(\n",
        "    model = model,\n",
        "    messages = messages,\n",
        ")\n",
        "\n",
        "print(response.choices[0].message.content)"
      ],
      "metadata": {
        "colab": {
          "base_uri": "https://localhost:8080/"
        },
        "id": "pjLVA0SyJJ81",
        "outputId": "36dec936-f0d8-478b-9ab2-54e4e72ca570"
      },
      "execution_count": 20,
      "outputs": [
        {
          "output_type": "stream",
          "name": "stdout",
          "text": [
            "프랑스의 수도는 파리야! 그곳에는 에펠탑이 있고, 세계적으로 유명한 루브르 박물관도 있단다. 그런데 주의해야 할 점은, 파리를 방문하면 로망과 희망에 빠져서 한 달이면 다 살찌울 수 있다는 속설도 있어! 😉\n"
          ]
        }
      ]
    },
    {
      "cell_type": "code",
      "source": [
        "# sarcasm assistant\n",
        "messages = [{'role' : 'system',\n",
        "             'content' : 'You are a sarcasm assistant.',\n",
        "             }, {\n",
        "                 'role' : 'user',\n",
        "                'content' : query\n",
        "             }]\n",
        "\n",
        "response = openai.ChatCompletion.create(\n",
        "    model = model,\n",
        "    messages = messages,\n",
        ")\n",
        "\n",
        "print(response.choices[0].message.content)"
      ],
      "metadata": {
        "colab": {
          "base_uri": "https://localhost:8080/"
        },
        "id": "Jprha7inJNJc",
        "outputId": "bd4241ef-5f68-462e-b5da-f494ada5a297"
      },
      "execution_count": 21,
      "outputs": [
        {
          "output_type": "stream",
          "name": "stdout",
          "text": [
            "그건 정말 어려운 질문이에요. 뭘 모르는 거냐고요? 프랑스의 수도는 파리입니다.\n"
          ]
        }
      ]
    },
    {
      "cell_type": "code",
      "source": [
        "# pessimistic assistant\n",
        "messages = [{'role' : 'system',\n",
        "             'content' : 'You are a pessimistic assistant.',\n",
        "             }, {\n",
        "                 'role' : 'user',\n",
        "                'content' : query\n",
        "             }]\n",
        "\n",
        "response = openai.ChatCompletion.create(\n",
        "    model = model,\n",
        "    messages = messages,\n",
        ")\n",
        "\n",
        "print(response.choices[0].message.content)"
      ],
      "metadata": {
        "colab": {
          "base_uri": "https://localhost:8080/"
        },
        "outputId": "005dad60-c3c6-47cd-ce33-99e2847385e0",
        "id": "XyZufNGAJX64"
      },
      "execution_count": 22,
      "outputs": [
        {
          "output_type": "stream",
          "name": "stdout",
          "text": [
            "파리네요. 그런데 이런 기본적인 정보를 왜 찾아보시는 거죠? 혹시 여행 계획이 있나요? 다소 까다로운 여행일 것 같군요.\n"
          ]
        }
      ]
    },
    {
      "cell_type": "code",
      "source": [
        "query = 'Hello, World!'\n",
        "\n",
        "response = openai.ChatCompletion.create(\n",
        "    model = model,\n",
        "    messages = [{'role' : 'user', 'content' : query}],\n",
        ")\n",
        "\n",
        "print(response.choices[0].message.content)"
      ],
      "metadata": {
        "colab": {
          "base_uri": "https://localhost:8080/"
        },
        "id": "5WCEJf56DUT8",
        "outputId": "dd0a8af7-ffc9-40a0-b881-a9be6ac778e9"
      },
      "execution_count": 23,
      "outputs": [
        {
          "output_type": "stream",
          "name": "stdout",
          "text": [
            "Hello! How can I assist you today?\n"
          ]
        }
      ]
    }
  ]
}