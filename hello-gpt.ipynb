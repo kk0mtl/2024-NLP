{
  "nbformat": 4,
  "nbformat_minor": 0,
  "metadata": {
    "colab": {
      "provenance": [],
      "authorship_tag": "ABX9TyPG022uE2ib3ezekfN5tqrH",
      "include_colab_link": true
    },
    "kernelspec": {
      "name": "python3",
      "display_name": "Python 3"
    },
    "language_info": {
      "name": "python"
    }
  },
  "cells": [
    {
      "cell_type": "markdown",
      "metadata": {
        "id": "view-in-github",
        "colab_type": "text"
      },
      "source": [
        "<a href=\"https://colab.research.google.com/github/kk0mtl/2024-NLP/blob/main/hello-gpt.ipynb\" target=\"_parent\"><img src=\"https://colab.research.google.com/assets/colab-badge.svg\" alt=\"Open In Colab\"/></a>"
      ]
    },
    {
      "cell_type": "code",
      "execution_count": 1,
      "metadata": {
        "id": "UO9N6m1pC-cm"
      },
      "outputs": [],
      "source": [
        "import os\n",
        "import openai"
      ]
    },
    {
      "cell_type": "code",
      "source": [
        "# github 저장을 위해 key는 제거하겠습니다.\n",
        "OPENAI_API_KEY = ''\n",
        "openai.api_key = OPENAI_API_KEY"
      ],
      "metadata": {
        "id": "TyEZ_1ZHDGAW"
      },
      "execution_count": 6,
      "outputs": []
    },
    {
      "cell_type": "code",
      "source": [
        "model = 'gpt-3.5-turbo'\n",
        "query = 'Hello, World!'\n",
        "\n",
        "response = openai.chat.completions.create(\n",
        "    model = model,\n",
        "    messages = [{'role' : 'user', 'content' : query}],\n",
        ")\n",
        "\n",
        "print(response.choices[0].message.content)"
      ],
      "metadata": {
        "colab": {
          "base_uri": "https://localhost:8080/"
        },
        "id": "5WCEJf56DUT8",
        "outputId": "13e203d0-5859-489e-8351-a98d54db5281"
      },
      "execution_count": 7,
      "outputs": [
        {
          "output_type": "stream",
          "name": "stdout",
          "text": [
            "Hello! How can I assist you today?\n"
          ]
        }
      ]
    }
  ]
}