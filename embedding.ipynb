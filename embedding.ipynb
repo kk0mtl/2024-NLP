{
  "nbformat": 4,
  "nbformat_minor": 0,
  "metadata": {
    "colab": {
      "provenance": [],
      "authorship_tag": "ABX9TyOoex7AdayT1AiojcS0f1Sq",
      "include_colab_link": true
    },
    "kernelspec": {
      "name": "python3",
      "display_name": "Python 3"
    },
    "language_info": {
      "name": "python"
    }
  },
  "cells": [
    {
      "cell_type": "markdown",
      "metadata": {
        "id": "view-in-github",
        "colab_type": "text"
      },
      "source": [
        "<a href=\"https://colab.research.google.com/github/kk0mtl/2024-NLP/blob/main/embedding.ipynb\" target=\"_parent\"><img src=\"https://colab.research.google.com/assets/colab-badge.svg\" alt=\"Open In Colab\"/></a>"
      ]
    },
    {
      "cell_type": "code",
      "source": [
        "!pip install openai==0.28"
      ],
      "metadata": {
        "colab": {
          "base_uri": "https://localhost:8080/"
        },
        "id": "Rq1luacBA-de",
        "outputId": "f751e46b-3bfc-4448-87e5-c4ecffe9bbb0"
      },
      "execution_count": 1,
      "outputs": [
        {
          "output_type": "stream",
          "name": "stdout",
          "text": [
            "Collecting openai==0.28\n",
            "  Downloading openai-0.28.0-py3-none-any.whl.metadata (13 kB)\n",
            "Requirement already satisfied: requests>=2.20 in /usr/local/lib/python3.10/dist-packages (from openai==0.28) (2.32.3)\n",
            "Requirement already satisfied: tqdm in /usr/local/lib/python3.10/dist-packages (from openai==0.28) (4.66.6)\n",
            "Requirement already satisfied: aiohttp in /usr/local/lib/python3.10/dist-packages (from openai==0.28) (3.11.2)\n",
            "Requirement already satisfied: charset-normalizer<4,>=2 in /usr/local/lib/python3.10/dist-packages (from requests>=2.20->openai==0.28) (3.4.0)\n",
            "Requirement already satisfied: idna<4,>=2.5 in /usr/local/lib/python3.10/dist-packages (from requests>=2.20->openai==0.28) (3.10)\n",
            "Requirement already satisfied: urllib3<3,>=1.21.1 in /usr/local/lib/python3.10/dist-packages (from requests>=2.20->openai==0.28) (2.2.3)\n",
            "Requirement already satisfied: certifi>=2017.4.17 in /usr/local/lib/python3.10/dist-packages (from requests>=2.20->openai==0.28) (2024.8.30)\n",
            "Requirement already satisfied: aiohappyeyeballs>=2.3.0 in /usr/local/lib/python3.10/dist-packages (from aiohttp->openai==0.28) (2.4.3)\n",
            "Requirement already satisfied: aiosignal>=1.1.2 in /usr/local/lib/python3.10/dist-packages (from aiohttp->openai==0.28) (1.3.1)\n",
            "Requirement already satisfied: attrs>=17.3.0 in /usr/local/lib/python3.10/dist-packages (from aiohttp->openai==0.28) (24.2.0)\n",
            "Requirement already satisfied: frozenlist>=1.1.1 in /usr/local/lib/python3.10/dist-packages (from aiohttp->openai==0.28) (1.5.0)\n",
            "Requirement already satisfied: multidict<7.0,>=4.5 in /usr/local/lib/python3.10/dist-packages (from aiohttp->openai==0.28) (6.1.0)\n",
            "Requirement already satisfied: propcache>=0.2.0 in /usr/local/lib/python3.10/dist-packages (from aiohttp->openai==0.28) (0.2.0)\n",
            "Requirement already satisfied: yarl<2.0,>=1.17.0 in /usr/local/lib/python3.10/dist-packages (from aiohttp->openai==0.28) (1.17.2)\n",
            "Requirement already satisfied: async-timeout<6.0,>=4.0 in /usr/local/lib/python3.10/dist-packages (from aiohttp->openai==0.28) (4.0.3)\n",
            "Requirement already satisfied: typing-extensions>=4.1.0 in /usr/local/lib/python3.10/dist-packages (from multidict<7.0,>=4.5->aiohttp->openai==0.28) (4.12.2)\n",
            "Downloading openai-0.28.0-py3-none-any.whl (76 kB)\n",
            "\u001b[2K   \u001b[90m━━━━━━━━━━━━━━━━━━━━━━━━━━━━━━━━━━━━━━━━\u001b[0m \u001b[32m76.5/76.5 kB\u001b[0m \u001b[31m4.9 MB/s\u001b[0m eta \u001b[36m0:00:00\u001b[0m\n",
            "\u001b[?25hInstalling collected packages: openai\n",
            "  Attempting uninstall: openai\n",
            "    Found existing installation: openai 1.54.4\n",
            "    Uninstalling openai-1.54.4:\n",
            "      Successfully uninstalled openai-1.54.4\n",
            "Successfully installed openai-0.28.0\n"
          ]
        }
      ]
    },
    {
      "cell_type": "code",
      "execution_count": 2,
      "metadata": {
        "id": "kQD7Mkmb-Kib"
      },
      "outputs": [],
      "source": [
        "import openai\n",
        "import numpy as np\n",
        "from sklearn.manifold import TSNE\n",
        "from sklearn.metrics.pairwise import cosine_similarity\n",
        "from sklearn.linear_model import LogisticRegression\n",
        "from sklearn.model_selection import train_test_split\n",
        "from sklearn.metrics import accuracy_score\n",
        "import matplotlib.pyplot as plt"
      ]
    },
    {
      "cell_type": "code",
      "source": [
        "# github 저장을 위해 key는 제거하겠습니다.\n",
        "OPENAI_API_KEY = ''\n",
        "openai.api_key = OPENAI_API_KEY"
      ],
      "metadata": {
        "id": "cMoKWV_QBAcA"
      },
      "execution_count": 3,
      "outputs": []
    },
    {
      "cell_type": "code",
      "source": [
        "color_words = ['red', 'blue', 'yellow', 'green', 'violet', 'cyan', 'black', 'white']"
      ],
      "metadata": {
        "id": "6DcuY4CxBpjS"
      },
      "execution_count": 4,
      "outputs": []
    },
    {
      "cell_type": "code",
      "source": [
        "def get_embeddings(words):\n",
        "  response = openai.Embedding.create(\n",
        "    input=words,\n",
        "    model=\"text-embedding-ada-002\"\n",
        "  )\n",
        "  return np.array([data['embedding'] for data in response['data']])\n",
        "\n",
        "color_embeddings = get_embeddings(color_words)\n",
        "\n",
        "print(color_embeddings)\n",
        "print(color_embeddings.shape)"
      ],
      "metadata": {
        "colab": {
          "base_uri": "https://localhost:8080/"
        },
        "id": "7EvJ-fBPB3ZS",
        "outputId": "18e176e5-2c91-481d-e958-14e9c1c5c0dd"
      },
      "execution_count": 5,
      "outputs": [
        {
          "output_type": "stream",
          "name": "stdout",
          "text": [
            "[[ 9.32653347e-06 -2.47681402e-02 -2.38425098e-03 ... -1.35402735e-02\n",
            "  -1.94616374e-02 -2.33412650e-03]\n",
            " [ 5.47496416e-03 -7.48624606e-03  5.67850750e-03 ... -1.05083436e-02\n",
            "  -1.13984132e-02 -6.72727183e-04]\n",
            " [ 7.66185811e-03 -2.49109976e-02  4.49154852e-03 ... -1.49784684e-02\n",
            "  -3.78777320e-03  3.69814131e-03]\n",
            " ...\n",
            " [ 2.15506330e-02 -1.40106883e-02  8.28977302e-03 ... -1.30039742e-02\n",
            "  -4.20737220e-03  6.06198329e-04]\n",
            " [-1.51030822e-02 -3.12157646e-02  8.77943356e-03 ... -7.02627562e-03\n",
            "  -8.10409337e-03 -1.47483572e-02]\n",
            " [ 6.29211031e-03 -2.45711766e-02  2.02813782e-04 ... -2.47656349e-02\n",
            "   2.86999415e-03 -2.11820491e-02]]\n",
            "(8, 1536)\n"
          ]
        }
      ]
    },
    {
      "cell_type": "code",
      "source": [
        "tsne = TSNE(n_components=2, random_state=42, perplexity=5)\n",
        "color_embeddings_2d = tsne.fit_transform(color_embeddings)\n",
        "\n",
        "plt.figure(figsize=(10, 6))\n",
        "for i, word in enumerate(color_words):\n",
        "  plt.scatter(color_embeddings_2d[i, 0], color_embeddings_2d[i, 1])\n",
        "  plt.text(color_embeddings_2d[i, 0] + 0.02, color_embeddings_2d[i, 1] + 0.02, word, fontsize=12)\n",
        "\n",
        "plt.title('2D t-SNE Visualization of Color Word Embeddings')\n",
        "plt.xlabel('Dimension 1')\n",
        "plt.ylabel('Dimension 2')\n",
        "plt.show()"
      ],
      "metadata": {
        "colab": {
          "base_uri": "https://localhost:8080/",
          "height": 564
        },
        "id": "o5KMevt5CLXq",
        "outputId": "29406e15-3ea8-481f-ea9a-f20d2021acd7"
      },
      "execution_count": 6,
      "outputs": [
        {
          "output_type": "display_data",
          "data": {
            "text/plain": [
              "<Figure size 1000x600 with 1 Axes>"
            ],
            "image/png": "[encoded data removed]"
          },
          "metadata": {}
        }
      ]
    },
    {
      "cell_type": "code",
      "source": [
        "documents = [\n",
        "    \"The ocean is blue\",\n",
        "    \"The sun is bright\",\n",
        "    \"The sky I fell in love with is rarely blue\",\n",
        "]\n",
        "\n",
        "document_embeddings = get_embeddings(documents)\n",
        "\n",
        "print(document_embeddings)\n",
        "print(document_embeddings.shape)"
      ],
      "metadata": {
        "colab": {
          "base_uri": "https://localhost:8080/"
        },
        "id": "5tQBRGzODQE9",
        "outputId": "19fa207d-dcb7-4757-f93f-87ff0e63acce"
      },
      "execution_count": 7,
      "outputs": [
        {
          "output_type": "stream",
          "name": "stdout",
          "text": [
            "[[ 0.01440749  0.00161666  0.01497735 ... -0.01961054 -0.00324261\n",
            "  -0.00860361]\n",
            " [ 0.01407092  0.00335625 -0.00440112 ... -0.02313913  0.00249502\n",
            "  -0.00444861]\n",
            " [ 0.00539287 -0.00061469  0.01653437 ... -0.00450823 -0.00240051\n",
            "  -0.01503582]]\n",
            "(3, 1536)\n"
          ]
        }
      ]
    },
    {
      "cell_type": "code",
      "source": [
        "def find_most_similar(query, documents, document_embeddings):\n",
        "  query_embedding = get_embeddings([query])[0]\n",
        "  similarities = cosine_similarity([query_embedding], document_embeddings)\n",
        "  most_similar_index = np.argmax(similarities)\n",
        "  return documents[most_similar_index], similarities[0][most_similar_index]\n",
        "\n",
        "query = \"The sky is blue\"\n",
        "most_similar_document, similarity = find_most_similar(query, documents, document_embeddings)\n",
        "\n",
        "print(f\"Query: {query}\")\n",
        "print(f\"Most similar document: {most_similar_document}\")\n",
        "print(f\"similarity: {similarity}\")"
      ],
      "metadata": {
        "colab": {
          "base_uri": "https://localhost:8080/"
        },
        "id": "mayDfE_tDnlz",
        "outputId": "e68681c8-222f-47e9-881f-b050f1daaa69"
      },
      "execution_count": 8,
      "outputs": [
        {
          "output_type": "stream",
          "name": "stdout",
          "text": [
            "Query: The sky is blue\n",
            "Most similar document: The ocean is blue\n",
            "similarity: 0.9149488250258162\n"
          ]
        }
      ]
    },
    {
      "cell_type": "code",
      "source": [
        "reviews = [\n",
        "    \"I loved this movie! It was fantastic.\",\n",
        "    \"The film was terrible, I hated it.\",\n",
        "    \"What an amazing movie, had a greate time watching it.\",\n",
        "    \"The movie was a complete waste of time, very boring.\",\n",
        "    \"Absolutely wonderful! A must-watch.\",\n",
        "    \"Awful film. Will never watch it again.\",\n",
        "]\n",
        "\n",
        "labels = [1,0,1,0,1,0]\n",
        "reviews_embeddings = get_embeddings(reviews)"
      ],
      "metadata": {
        "id": "3vj1WQE1EVAb"
      },
      "execution_count": 13,
      "outputs": []
    },
    {
      "cell_type": "code",
      "source": [
        "X_train, X_test, y_train, y_test = train_test_split(reviews_embeddings, labels, test_size=0.2, random_state=42)\n",
        "\n",
        "classifier = LogisticRegression()\n",
        "classifier.fit(X_train, y_train)\n",
        "\n",
        "y_pred = classifier.predict(X_test)\n",
        "accuracy = accuracy_score(y_test, y_pred)  # 동일할수록 1에 가까움\n",
        "print(f\"Accuracy: {accuracy:.2f}\")"
      ],
      "metadata": {
        "colab": {
          "base_uri": "https://localhost:8080/"
        },
        "id": "FfUcxoDGFXNT",
        "outputId": "1771ada9-a70f-49b5-d188-329169a054b2"
      },
      "execution_count": 14,
      "outputs": [
        {
          "output_type": "stream",
          "name": "stdout",
          "text": [
            "Accuracy: 1.00\n"
          ]
        }
      ]
    },
    {
      "cell_type": "code",
      "source": [
        "def classifier_review(review):\n",
        "  review_embedding = get_embeddings([review])[0]\n",
        "  prediction = classifier.predict([review_embedding])[0]\n",
        "  return \"Positive\" if prediction == 1 else \"Negative\"\n",
        "\n",
        "new_review = \"The movie was fantastic and very entertaining!\"\n",
        "classification = classifier_review(new_review)\n",
        "print(f\"Review: {new_review}\")\n",
        "print(f\"Classification: {classification}\")"
      ],
      "metadata": {
        "colab": {
          "base_uri": "https://localhost:8080/"
        },
        "id": "5m2yAHI8Fo65",
        "outputId": "75198668-0b67-4fd5-922d-31a5559f804f"
      },
      "execution_count": 15,
      "outputs": [
        {
          "output_type": "stream",
          "name": "stdout",
          "text": [
            "Review: The movie was fantastic and very entertaining!\n",
            "Classification: Positive\n"
          ]
        }
      ]
    }
  ]
}